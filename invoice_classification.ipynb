{
 "cells": [
  {
   "attachments": {},
   "cell_type": "markdown",
   "metadata": {},
   "source": [
    "Checking Image Sizes"
   ]
  },
  {
   "cell_type": "code",
   "execution_count": null,
   "metadata": {},
   "outputs": [],
   "source": [
    "import numpy as np\n",
    "import cv2\n",
    "\n",
    "# Image shape in Training\n",
    "image = cv2.imread('dataset/train/images/5f9a8aaef7b44943bd028448b1d90c1d-0001_jpg.rf.0bec84a7527f033722fc6e0b88d02bc4.jpg')\n",
    "height = np.size(image, 0)\n",
    "width = np.size(image, 1)\n",
    "print (\"shape of the training image {}, {}\".format(height, width))\n",
    "\n",
    "\n",
    "# Image shape in Valid\n",
    "image = cv2.imread('dataset/valid/images/507_jpg.rf.9917bd78a75f41d39c808f253a779adc.jpg')\n",
    "height = np.size(image, 0)\n",
    "width = np.size(image, 1)\n",
    "print (\"shape of the training image {}, {}\".format(height, width))\n",
    "\n",
    "# Image shape in Test\n",
    "image = cv2.imread('dataset/test/images/117_png_jpg.rf.48eb932f2d780dfd6bf6e290e194b443.jpg')\n",
    "height = np.size(image, 0)\n",
    "width = np.size(image, 1)\n",
    "print (\"shape of the training image {}, {}\".format(height, width))\n"
   ]
  },
  {
   "attachments": {},
   "cell_type": "markdown",
   "metadata": {},
   "source": [
    "Training Model"
   ]
  },
  {
   "cell_type": "code",
   "execution_count": null,
   "metadata": {},
   "outputs": [],
   "source": [
    "from ultralytics import YOLO\n",
    "\n",
    "model = YOLO(\"yolov8m.pt\")\n",
    "results = model.train(data=\"data.yaml\", epochs=25, imgsz= (416,416))\n"
   ]
  },
  {
   "attachments": {},
   "cell_type": "markdown",
   "metadata": {},
   "source": [
    "Validate Results"
   ]
  },
  {
   "cell_type": "code",
   "execution_count": null,
   "metadata": {},
   "outputs": [],
   "source": [
    "results = model.val()"
   ]
  },
  {
   "cell_type": "code",
   "execution_count": null,
   "metadata": {},
   "outputs": [],
   "source": [
    "# dislaying metrics for train data\n",
    "from IPython.display import Image\n",
    "from IPython.display import display\n",
    "x = Image(filename='runs/detect/train2/F1_curve.png') \n",
    "y = Image(filename='runs/detect/train2/PR_curve.png') \n",
    "z = Image(filename='runs/detect/train2/confusion_matrix.png') \n",
    "display(x, y,z)"
   ]
  }
 ],
 "metadata": {
  "kernelspec": {
   "display_name": "invoice",
   "language": "python",
   "name": "python3"
  },
  "language_info": {
   "codemirror_mode": {
    "name": "ipython",
    "version": 3
   },
   "file_extension": ".py",
   "mimetype": "text/x-python",
   "name": "python",
   "nbconvert_exporter": "python",
   "pygments_lexer": "ipython3",
   "version": "3.11.3"
  },
  "orig_nbformat": 4
 },
 "nbformat": 4,
 "nbformat_minor": 2
}
